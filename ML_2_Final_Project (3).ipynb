{
 "cells": [
  {
   "cell_type": "markdown",
   "metadata": {
    "id": "d4fhvLF6F1U4"
   },
   "source": [
    "# ML 2 Final Project"
   ]
  },
  {
   "cell_type": "markdown",
   "metadata": {
    "id": "zg0KXeCdGafJ"
   },
   "source": [
    "About the data set:\n",
    "\n",
    "[more eda needed]"
   ]
  },
  {
   "cell_type": "markdown",
   "metadata": {
    "id": "PDZp2vscFEE6"
   },
   "source": [
    "**ML 2 - Final Project**\n",
    "\n",
    "\n",
    "*   Arjun Babuji\n",
    "* Francisca Li\n",
    "*   Jess Giardina\n",
    "\n",
    "\n",
    "\n",
    "\n",
    "\n"
   ]
  },
  {
   "cell_type": "code",
   "execution_count": 1,
   "metadata": {
    "colab": {
     "base_uri": "https://localhost:8080/"
    },
    "id": "fhM1sU7gFbfY",
    "outputId": "ab82fd66-209b-44e2-ec57-ef0fda5e556f"
   },
   "outputs": [
    {
     "name": "stdout",
     "output_type": "stream",
     "text": [
      "  InvoiceNo StockCode                          Description  Quantity  \\\n",
      "0    536365    85123A   WHITE HANGING HEART T-LIGHT HOLDER         6   \n",
      "1    536365     71053                  WHITE METAL LANTERN         6   \n",
      "2    536365    84406B       CREAM CUPID HEARTS COAT HANGER         8   \n",
      "3    536365    84029G  KNITTED UNION FLAG HOT WATER BOTTLE         6   \n",
      "4    536365    84029E       RED WOOLLY HOTTIE WHITE HEART.         6   \n",
      "\n",
      "          InvoiceDate  UnitPrice  CustomerID         Country  \n",
      "0 2010-12-01 08:26:00       2.55     17850.0  United Kingdom  \n",
      "1 2010-12-01 08:26:00       3.39     17850.0  United Kingdom  \n",
      "2 2010-12-01 08:26:00       2.75     17850.0  United Kingdom  \n",
      "3 2010-12-01 08:26:00       3.39     17850.0  United Kingdom  \n",
      "4 2010-12-01 08:26:00       3.39     17850.0  United Kingdom  \n"
     ]
    }
   ],
   "source": [
    "import pandas as pd\n",
    "df = pd.read_excel(\"Online Retail.xlsx\")\n",
    "print(df.head())"
   ]
  },
  {
   "cell_type": "code",
   "execution_count": 2,
   "metadata": {
    "id": "y2-ro6pSWiV2"
   },
   "outputs": [],
   "source": [
    "# prompt: export a csv file that randomly selects different rows in the data frame up to 500 records\n",
    "df_sample = df.sample(n=500)\n",
    "df_sample.to_csv('retail_sample.csv')"
   ]
  },
  {
   "cell_type": "markdown",
   "metadata": {
    "id": "yMGeRVJfa1La"
   },
   "source": [
    "## Data Cleaning & Prep"
   ]
  },
  {
   "cell_type": "code",
   "execution_count": 3,
   "metadata": {
    "colab": {
     "base_uri": "https://localhost:8080/"
    },
    "id": "4cQNpAsSY5bw",
    "outputId": "b0df3b66-0516-4a72-8e91-cc0f842b3bac"
   },
   "outputs": [
    {
     "name": "stdout",
     "output_type": "stream",
     "text": [
      "Number of dropped records: 135080\n"
     ]
    }
   ],
   "source": [
    "# prompt: Remove all the records in the dataframe where there are blanks and then give a count of how many records were dropped from the total data set\n",
    "\n",
    "df_clean = df.dropna()\n",
    "dropped_records = len(df) - len(df_clean)\n",
    "print(f\"Number of dropped records: {dropped_records}\")\n"
   ]
  },
  {
   "cell_type": "code",
   "execution_count": 4,
   "metadata": {
    "colab": {
     "base_uri": "https://localhost:8080/"
    },
    "id": "oyw0JodWZOEf",
    "outputId": "d8217e5d-3c6c-4f57-9471-60da54bb4bc2"
   },
   "outputs": [
    {
     "name": "stdout",
     "output_type": "stream",
     "text": [
      "406829\n"
     ]
    }
   ],
   "source": [
    "print(len(df_clean))"
   ]
  },
  {
   "cell_type": "markdown",
   "metadata": {
    "id": "FUw_xqVSa7IP"
   },
   "source": [
    "## Exploratory Analysis"
   ]
  },
  {
   "cell_type": "code",
   "execution_count": 5,
   "metadata": {
    "colab": {
     "base_uri": "https://localhost:8080/"
    },
    "id": "Q6a7k8xwHBUk",
    "outputId": "44e6d861-f7d1-4dd2-93b2-642151dcf922"
   },
   "outputs": [
    {
     "name": "stdout",
     "output_type": "stream",
     "text": [
      "Number of unique customers: 4372\n",
      "Number of unique products: 3684\n",
      "Number of unique orders: 22190\n",
      "Number of unique countries: 37\n"
     ]
    }
   ],
   "source": [
    "# prompt: count the number of unique customers and number of unique products\n",
    "\n",
    "unique_customers = df_clean['CustomerID'].nunique()\n",
    "unique_products = df_clean['StockCode'].nunique()\n",
    "unique_orders = df_clean['InvoiceNo'].nunique()\n",
    "unique_countries = df_clean['Country'].nunique()\n",
    "\n",
    "print(f\"Number of unique customers: {unique_customers}\")\n",
    "print(f\"Number of unique products: {unique_products}\")\n",
    "print(f\"Number of unique orders: {unique_orders}\")\n",
    "print(f\"Number of unique countries: {unique_countries}\")\n",
    "\n"
   ]
  },
  {
   "cell_type": "code",
   "execution_count": 6,
   "metadata": {
    "colab": {
     "base_uri": "https://localhost:8080/"
    },
    "id": "LkPmwglmfHcb",
    "outputId": "cc79095d-0652-4315-a96e-485db304a206"
   },
   "outputs": [
    {
     "name": "stdout",
     "output_type": "stream",
     "text": [
      "Min Invoice Date:  2010-12-01 08:26:00\n",
      "Max Invoice Date:  2011-12-09 12:50:00\n",
      "Length in Invoice History:  373 days 04:24:00\n"
     ]
    }
   ],
   "source": [
    "print('Min Invoice Date: ', df_clean['InvoiceDate'].min())\n",
    "print('Max Invoice Date: ', df_clean['InvoiceDate'].max())\n",
    "print('Length in Invoice History: ', df_clean['InvoiceDate'].max() - df_clean['InvoiceDate'].min())"
   ]
  },
  {
   "cell_type": "code",
   "execution_count": 7,
   "metadata": {},
   "outputs": [
    {
     "name": "stderr",
     "output_type": "stream",
     "text": [
      "/var/folders/b2/md2wh5xd6nxf2ncnmqdwgzlc0000gn/T/ipykernel_4415/934414007.py:5: SettingWithCopyWarning: \n",
      "A value is trying to be set on a copy of a slice from a DataFrame.\n",
      "Try using .loc[row_indexer,col_indexer] = value instead\n",
      "\n",
      "See the caveats in the documentation: https://pandas.pydata.org/pandas-docs/stable/user_guide/indexing.html#returning-a-view-versus-a-copy\n",
      "  df_clean['InvoiceDate'] = pd.to_datetime(df_clean['InvoiceDate'])\n",
      "/var/folders/b2/md2wh5xd6nxf2ncnmqdwgzlc0000gn/T/ipykernel_4415/934414007.py:8: SettingWithCopyWarning: \n",
      "A value is trying to be set on a copy of a slice from a DataFrame.\n",
      "Try using .loc[row_indexer,col_indexer] = value instead\n",
      "\n",
      "See the caveats in the documentation: https://pandas.pydata.org/pandas-docs/stable/user_guide/indexing.html#returning-a-view-versus-a-copy\n",
      "  df_clean['Year'] = df_clean['InvoiceDate'].dt.year\n",
      "/var/folders/b2/md2wh5xd6nxf2ncnmqdwgzlc0000gn/T/ipykernel_4415/934414007.py:9: SettingWithCopyWarning: \n",
      "A value is trying to be set on a copy of a slice from a DataFrame.\n",
      "Try using .loc[row_indexer,col_indexer] = value instead\n",
      "\n",
      "See the caveats in the documentation: https://pandas.pydata.org/pandas-docs/stable/user_guide/indexing.html#returning-a-view-versus-a-copy\n",
      "  df_clean['Month'] = df_clean['InvoiceDate'].dt.month\n",
      "/var/folders/b2/md2wh5xd6nxf2ncnmqdwgzlc0000gn/T/ipykernel_4415/934414007.py:10: SettingWithCopyWarning: \n",
      "A value is trying to be set on a copy of a slice from a DataFrame.\n",
      "Try using .loc[row_indexer,col_indexer] = value instead\n",
      "\n",
      "See the caveats in the documentation: https://pandas.pydata.org/pandas-docs/stable/user_guide/indexing.html#returning-a-view-versus-a-copy\n",
      "  df_clean['YearMonth'] = df_clean['InvoiceDate'].dt.to_period('M')\n"
     ]
    },
    {
     "data": {
      "image/png": "[encoded data removed]",
      "text/plain": [
       "<Figure size 1200x600 with 1 Axes>"
      ]
     },
     "metadata": {},
     "output_type": "display_data"
    }
   ],
   "source": [
    "import matplotlib.pyplot as plt\n",
    "import pandas as pd\n",
    "\n",
    "# Assuming df_clean['InvoiceDate'] is already in datetime format; if not, convert it\n",
    "df_clean['InvoiceDate'] = pd.to_datetime(df_clean['InvoiceDate'])\n",
    "\n",
    "# Extract the year and month from the InvoiceDate column\n",
    "df_clean['Year'] = df_clean['InvoiceDate'].dt.year\n",
    "df_clean['Month'] = df_clean['InvoiceDate'].dt.month\n",
    "df_clean['YearMonth'] = df_clean['InvoiceDate'].dt.to_period('M')\n",
    "\n",
    "# Group by year and month and count the number of unique orders\n",
    "grouped_data = df_clean.groupby('YearMonth')['InvoiceNo'].nunique()\n",
    "\n",
    "# Reset index to convert the YearMonth PeriodIndex to string in the DataFrame, which will be plotted on the x-axis\n",
    "grouped_data = grouped_data.reset_index()\n",
    "\n",
    "# Convert the 'YearMonth' to string if it's in Period format for plotting\n",
    "grouped_data['YearMonth'] = grouped_data['YearMonth'].astype(str)\n",
    "\n",
    "# Create a line plot\n",
    "plt.figure(figsize=(12,6))  # Optional: you can define the figure size\n",
    "plt.plot(grouped_data['YearMonth'], grouped_data['InvoiceNo'])\n",
    "\n",
    "# Set the x-axis label\n",
    "plt.xlabel('Year-Month')\n",
    "\n",
    "# Set the y-axis label\n",
    "plt.ylabel('Number of Unique Orders')\n",
    "\n",
    "# Set the title\n",
    "plt.title('Number of Unique Orders Over Time')\n",
    "\n",
    "# Rotate the x-axis labels for better readability\n",
    "plt.xticks(rotation=45)\n",
    "\n",
    "# Display the plot\n",
    "plt.tight_layout()  # Adjust the plot to ensure everything fits without overlapping\n",
    "plt.show()\n"
   ]
  },
  {
   "cell_type": "code",
   "execution_count": 8,
   "metadata": {
    "colab": {
     "base_uri": "https://localhost:8080/",
     "height": 759
    },
    "id": "uFDpyxmDHZMu",
    "outputId": "44768566-27d1-4375-ade1-e981f5c99949"
   },
   "outputs": [
    {
     "data": {
      "image/png": "[encoded data removed]",
      "text/plain": [
       "<Figure size 1000x500 with 1 Axes>"
      ]
     },
     "metadata": {},
     "output_type": "display_data"
    }
   ],
   "source": [
    "# prompt: Create a bar chart of the top 10 most ordered items\n",
    "\n",
    "import matplotlib.pyplot as plt\n",
    "\n",
    "# Get the top 10 most ordered items\n",
    "top_10_items = df_clean['Description'].value_counts().head(10)\n",
    "\n",
    "# Create a bar chart of the top 10 most ordered items\n",
    "plt.figure(figsize=(10, 5))\n",
    "top_10_items.plot(kind='bar')\n",
    "plt.title('Top 10 Most Ordered Items')\n",
    "plt.xlabel('Item StockCode')\n",
    "plt.ylabel('Number of Orders')\n",
    "plt.show()\n"
   ]
  },
  {
   "cell_type": "code",
   "execution_count": 9,
   "metadata": {
    "colab": {
     "base_uri": "https://localhost:8080/"
    },
    "id": "Adk3SrahOJ7d",
    "outputId": "f846029c-53d7-4bcc-f91e-4e1e9cafefb4"
   },
   "outputs": [
    {
     "name": "stdout",
     "output_type": "stream",
     "text": [
      "The average number of units a customer orders is 9.55\n"
     ]
    }
   ],
   "source": [
    "average_units_per_customer = df['Quantity'].mean()\n",
    "\n",
    "print(f\"The average number of units a customer orders is {average_units_per_customer:.2f}\")\n"
   ]
  },
  {
   "cell_type": "code",
   "execution_count": 10,
   "metadata": {
    "colab": {
     "base_uri": "https://localhost:8080/",
     "height": 441
    },
    "id": "adt4Sa7qhBTe",
    "outputId": "f6658286-df4b-4007-831c-d8c507963779"
   },
   "outputs": [
    {
     "name": "stderr",
     "output_type": "stream",
     "text": [
      "/var/folders/b2/md2wh5xd6nxf2ncnmqdwgzlc0000gn/T/ipykernel_4415/3883245929.py:3: SettingWithCopyWarning: \n",
      "A value is trying to be set on a copy of a slice from a DataFrame.\n",
      "Try using .loc[row_indexer,col_indexer] = value instead\n",
      "\n",
      "See the caveats in the documentation: https://pandas.pydata.org/pandas-docs/stable/user_guide/indexing.html#returning-a-view-versus-a-copy\n",
      "  df_clean['Total_Amount'] = df_clean['Quantity'] * df_clean['UnitPrice']\n"
     ]
    },
    {
     "data": {
      "text/html": [
       "<div>\n",
       "<style scoped>\n",
       "    .dataframe tbody tr th:only-of-type {\n",
       "        vertical-align: middle;\n",
       "    }\n",
       "\n",
       "    .dataframe tbody tr th {\n",
       "        vertical-align: top;\n",
       "    }\n",
       "\n",
       "    .dataframe thead th {\n",
       "        text-align: right;\n",
       "    }\n",
       "</style>\n",
       "<table border=\"1\" class=\"dataframe\">\n",
       "  <thead>\n",
       "    <tr style=\"text-align: right;\">\n",
       "      <th></th>\n",
       "      <th>InvoiceNo</th>\n",
       "      <th>StockCode</th>\n",
       "      <th>Description</th>\n",
       "      <th>Quantity</th>\n",
       "      <th>InvoiceDate</th>\n",
       "      <th>UnitPrice</th>\n",
       "      <th>CustomerID</th>\n",
       "      <th>Country</th>\n",
       "      <th>Year</th>\n",
       "      <th>Month</th>\n",
       "      <th>YearMonth</th>\n",
       "      <th>Total_Amount</th>\n",
       "    </tr>\n",
       "  </thead>\n",
       "  <tbody>\n",
       "    <tr>\n",
       "      <th>0</th>\n",
       "      <td>536365</td>\n",
       "      <td>85123A</td>\n",
       "      <td>WHITE HANGING HEART T-LIGHT HOLDER</td>\n",
       "      <td>6</td>\n",
       "      <td>2010-12-01 08:26:00</td>\n",
       "      <td>2.55</td>\n",
       "      <td>17850.0</td>\n",
       "      <td>United Kingdom</td>\n",
       "      <td>2010</td>\n",
       "      <td>12</td>\n",
       "      <td>2010-12</td>\n",
       "      <td>15.30</td>\n",
       "    </tr>\n",
       "    <tr>\n",
       "      <th>1</th>\n",
       "      <td>536365</td>\n",
       "      <td>71053</td>\n",
       "      <td>WHITE METAL LANTERN</td>\n",
       "      <td>6</td>\n",
       "      <td>2010-12-01 08:26:00</td>\n",
       "      <td>3.39</td>\n",
       "      <td>17850.0</td>\n",
       "      <td>United Kingdom</td>\n",
       "      <td>2010</td>\n",
       "      <td>12</td>\n",
       "      <td>2010-12</td>\n",
       "      <td>20.34</td>\n",
       "    </tr>\n",
       "    <tr>\n",
       "      <th>2</th>\n",
       "      <td>536365</td>\n",
       "      <td>84406B</td>\n",
       "      <td>CREAM CUPID HEARTS COAT HANGER</td>\n",
       "      <td>8</td>\n",
       "      <td>2010-12-01 08:26:00</td>\n",
       "      <td>2.75</td>\n",
       "      <td>17850.0</td>\n",
       "      <td>United Kingdom</td>\n",
       "      <td>2010</td>\n",
       "      <td>12</td>\n",
       "      <td>2010-12</td>\n",
       "      <td>22.00</td>\n",
       "    </tr>\n",
       "  </tbody>\n",
       "</table>\n",
       "</div>"
      ],
      "text/plain": [
       "  InvoiceNo StockCode                         Description  Quantity  \\\n",
       "0    536365    85123A  WHITE HANGING HEART T-LIGHT HOLDER         6   \n",
       "1    536365     71053                 WHITE METAL LANTERN         6   \n",
       "2    536365    84406B      CREAM CUPID HEARTS COAT HANGER         8   \n",
       "\n",
       "          InvoiceDate  UnitPrice  CustomerID         Country  Year  Month  \\\n",
       "0 2010-12-01 08:26:00       2.55     17850.0  United Kingdom  2010     12   \n",
       "1 2010-12-01 08:26:00       3.39     17850.0  United Kingdom  2010     12   \n",
       "2 2010-12-01 08:26:00       2.75     17850.0  United Kingdom  2010     12   \n",
       "\n",
       "  YearMonth  Total_Amount  \n",
       "0   2010-12         15.30  \n",
       "1   2010-12         20.34  \n",
       "2   2010-12         22.00  "
      ]
     },
     "execution_count": 10,
     "metadata": {},
     "output_type": "execute_result"
    }
   ],
   "source": [
    "# prompt: create a data frame that calculates the total amount of money each customer has spent by multiplying the quantity and the unit price\n",
    "\n",
    "df_clean['Total_Amount'] = df_clean['Quantity'] * df_clean['UnitPrice']\n",
    "df_clean.head(3)\n"
   ]
  },
  {
   "cell_type": "code",
   "execution_count": 11,
   "metadata": {
    "colab": {
     "base_uri": "https://localhost:8080/",
     "height": 472
    },
    "id": "tOZxd5rfnnx8",
    "outputId": "2516ea08-94ff-440a-a41e-4b0381feffb9"
   },
   "outputs": [
    {
     "data": {
      "image/png": "[encoded data removed]",
      "text/plain": [
       "<Figure size 640x480 with 1 Axes>"
      ]
     },
     "metadata": {},
     "output_type": "display_data"
    }
   ],
   "source": [
    "# prompt: plot the order units from smallest to largest\n",
    "\n",
    "df_clean.sort_values(by='Quantity', ascending=True).plot(x='InvoiceNo', y='Quantity', kind='line')\n",
    "plt.xlabel('Invoice Number')\n",
    "plt.ylabel('Order Units')\n",
    "plt.title('Order Units from Smallest to Largest')\n",
    "plt.show()\n"
   ]
  },
  {
   "cell_type": "markdown",
   "metadata": {
    "id": "xd4F51dmbCGG"
   },
   "source": [
    "## Feature Engineering"
   ]
  },
  {
   "cell_type": "code",
   "execution_count": 12,
   "metadata": {
    "colab": {
     "base_uri": "https://localhost:8080/",
     "height": 383
    },
    "id": "JWWWkPG05S8z",
    "outputId": "2736ec52-4cba-45a1-ea88-1b777029f5f3"
   },
   "outputs": [
    {
     "name": "stderr",
     "output_type": "stream",
     "text": [
      "/var/folders/b2/md2wh5xd6nxf2ncnmqdwgzlc0000gn/T/ipykernel_4415/2382794382.py:2: SettingWithCopyWarning: \n",
      "A value is trying to be set on a copy of a slice from a DataFrame.\n",
      "Try using .loc[row_indexer,col_indexer] = value instead\n",
      "\n",
      "See the caveats in the documentation: https://pandas.pydata.org/pandas-docs/stable/user_guide/indexing.html#returning-a-view-versus-a-copy\n",
      "  df_clean['Returned'] = (df_clean['Quantity'] <= 0).astype(int)\n"
     ]
    },
    {
     "data": {
      "text/html": [
       "<div>\n",
       "<style scoped>\n",
       "    .dataframe tbody tr th:only-of-type {\n",
       "        vertical-align: middle;\n",
       "    }\n",
       "\n",
       "    .dataframe tbody tr th {\n",
       "        vertical-align: top;\n",
       "    }\n",
       "\n",
       "    .dataframe thead th {\n",
       "        text-align: right;\n",
       "    }\n",
       "</style>\n",
       "<table border=\"1\" class=\"dataframe\">\n",
       "  <thead>\n",
       "    <tr style=\"text-align: right;\">\n",
       "      <th></th>\n",
       "      <th>InvoiceNo</th>\n",
       "      <th>StockCode</th>\n",
       "      <th>Description</th>\n",
       "      <th>Quantity</th>\n",
       "      <th>InvoiceDate</th>\n",
       "      <th>UnitPrice</th>\n",
       "      <th>CustomerID</th>\n",
       "      <th>Country</th>\n",
       "      <th>Year</th>\n",
       "      <th>Month</th>\n",
       "      <th>YearMonth</th>\n",
       "      <th>Total_Amount</th>\n",
       "      <th>Returned</th>\n",
       "    </tr>\n",
       "  </thead>\n",
       "  <tbody>\n",
       "    <tr>\n",
       "      <th>0</th>\n",
       "      <td>536365</td>\n",
       "      <td>85123A</td>\n",
       "      <td>WHITE HANGING HEART T-LIGHT HOLDER</td>\n",
       "      <td>6</td>\n",
       "      <td>2010-12-01 08:26:00</td>\n",
       "      <td>2.55</td>\n",
       "      <td>17850.0</td>\n",
       "      <td>United Kingdom</td>\n",
       "      <td>2010</td>\n",
       "      <td>12</td>\n",
       "      <td>2010-12</td>\n",
       "      <td>15.30</td>\n",
       "      <td>0</td>\n",
       "    </tr>\n",
       "    <tr>\n",
       "      <th>1</th>\n",
       "      <td>536365</td>\n",
       "      <td>71053</td>\n",
       "      <td>WHITE METAL LANTERN</td>\n",
       "      <td>6</td>\n",
       "      <td>2010-12-01 08:26:00</td>\n",
       "      <td>3.39</td>\n",
       "      <td>17850.0</td>\n",
       "      <td>United Kingdom</td>\n",
       "      <td>2010</td>\n",
       "      <td>12</td>\n",
       "      <td>2010-12</td>\n",
       "      <td>20.34</td>\n",
       "      <td>0</td>\n",
       "    </tr>\n",
       "    <tr>\n",
       "      <th>2</th>\n",
       "      <td>536365</td>\n",
       "      <td>84406B</td>\n",
       "      <td>CREAM CUPID HEARTS COAT HANGER</td>\n",
       "      <td>8</td>\n",
       "      <td>2010-12-01 08:26:00</td>\n",
       "      <td>2.75</td>\n",
       "      <td>17850.0</td>\n",
       "      <td>United Kingdom</td>\n",
       "      <td>2010</td>\n",
       "      <td>12</td>\n",
       "      <td>2010-12</td>\n",
       "      <td>22.00</td>\n",
       "      <td>0</td>\n",
       "    </tr>\n",
       "  </tbody>\n",
       "</table>\n",
       "</div>"
      ],
      "text/plain": [
       "  InvoiceNo StockCode                         Description  Quantity  \\\n",
       "0    536365    85123A  WHITE HANGING HEART T-LIGHT HOLDER         6   \n",
       "1    536365     71053                 WHITE METAL LANTERN         6   \n",
       "2    536365    84406B      CREAM CUPID HEARTS COAT HANGER         8   \n",
       "\n",
       "          InvoiceDate  UnitPrice  CustomerID         Country  Year  Month  \\\n",
       "0 2010-12-01 08:26:00       2.55     17850.0  United Kingdom  2010     12   \n",
       "1 2010-12-01 08:26:00       3.39     17850.0  United Kingdom  2010     12   \n",
       "2 2010-12-01 08:26:00       2.75     17850.0  United Kingdom  2010     12   \n",
       "\n",
       "  YearMonth  Total_Amount  Returned  \n",
       "0   2010-12         15.30         0  \n",
       "1   2010-12         20.34         0  \n",
       "2   2010-12         22.00         0  "
      ]
     },
     "execution_count": 12,
     "metadata": {},
     "output_type": "execute_result"
    }
   ],
   "source": [
    "# Flag instances where Quantity is negative (returned or canceled orders)\n",
    "df_clean['Returned'] = (df_clean['Quantity'] <= 0).astype(int)\n",
    "df_clean.head(3)"
   ]
  },
  {
   "cell_type": "code",
   "execution_count": 13,
   "metadata": {
    "colab": {
     "base_uri": "https://localhost:8080/",
     "height": 929
    },
    "id": "aOtSd73-7MBA",
    "outputId": "aabe6d3c-eebf-4170-98e7-d9008eb7000f"
   },
   "outputs": [
    {
     "name": "stderr",
     "output_type": "stream",
     "text": [
      "/var/folders/b2/md2wh5xd6nxf2ncnmqdwgzlc0000gn/T/ipykernel_4415/569109531.py:2: SettingWithCopyWarning: \n",
      "A value is trying to be set on a copy of a slice from a DataFrame.\n",
      "Try using .loc[row_indexer,col_indexer] = value instead\n",
      "\n",
      "See the caveats in the documentation: https://pandas.pydata.org/pandas-docs/stable/user_guide/indexing.html#returning-a-view-versus-a-copy\n",
      "  df_clean['InvoiceDate'] = pd.to_datetime(df_clean['InvoiceDate'])\n",
      "/var/folders/b2/md2wh5xd6nxf2ncnmqdwgzlc0000gn/T/ipykernel_4415/569109531.py:6: SettingWithCopyWarning: \n",
      "A value is trying to be set on a copy of a slice from a DataFrame.\n",
      "Try using .loc[row_indexer,col_indexer] = value instead\n",
      "\n",
      "See the caveats in the documentation: https://pandas.pydata.org/pandas-docs/stable/user_guide/indexing.html#returning-a-view-versus-a-copy\n",
      "  df_clean['MultiplePurchases'] = df_clean['CustomerID'].map(customer_purchases) > 1\n"
     ]
    },
    {
     "data": {
      "text/html": [
       "<div>\n",
       "<style scoped>\n",
       "    .dataframe tbody tr th:only-of-type {\n",
       "        vertical-align: middle;\n",
       "    }\n",
       "\n",
       "    .dataframe tbody tr th {\n",
       "        vertical-align: top;\n",
       "    }\n",
       "\n",
       "    .dataframe thead th {\n",
       "        text-align: right;\n",
       "    }\n",
       "</style>\n",
       "<table border=\"1\" class=\"dataframe\">\n",
       "  <thead>\n",
       "    <tr style=\"text-align: right;\">\n",
       "      <th></th>\n",
       "      <th>InvoiceNo</th>\n",
       "      <th>StockCode</th>\n",
       "      <th>Description</th>\n",
       "      <th>Quantity</th>\n",
       "      <th>InvoiceDate</th>\n",
       "      <th>UnitPrice</th>\n",
       "      <th>CustomerID</th>\n",
       "      <th>Country</th>\n",
       "      <th>Year</th>\n",
       "      <th>Month</th>\n",
       "      <th>YearMonth</th>\n",
       "      <th>Total_Amount</th>\n",
       "      <th>Returned</th>\n",
       "      <th>MultiplePurchases</th>\n",
       "    </tr>\n",
       "  </thead>\n",
       "  <tbody>\n",
       "    <tr>\n",
       "      <th>155</th>\n",
       "      <td>536384</td>\n",
       "      <td>82484</td>\n",
       "      <td>WOOD BLACK BOARD ANT WHITE FINISH</td>\n",
       "      <td>3</td>\n",
       "      <td>2010-12-01 09:53:00</td>\n",
       "      <td>6.45</td>\n",
       "      <td>18074.0</td>\n",
       "      <td>United Kingdom</td>\n",
       "      <td>2010</td>\n",
       "      <td>12</td>\n",
       "      <td>2010-12</td>\n",
       "      <td>19.35</td>\n",
       "      <td>0</td>\n",
       "      <td>False</td>\n",
       "    </tr>\n",
       "    <tr>\n",
       "      <th>156</th>\n",
       "      <td>536384</td>\n",
       "      <td>84755</td>\n",
       "      <td>COLOUR GLASS T-LIGHT HOLDER HANGING</td>\n",
       "      <td>48</td>\n",
       "      <td>2010-12-01 09:53:00</td>\n",
       "      <td>0.65</td>\n",
       "      <td>18074.0</td>\n",
       "      <td>United Kingdom</td>\n",
       "      <td>2010</td>\n",
       "      <td>12</td>\n",
       "      <td>2010-12</td>\n",
       "      <td>31.20</td>\n",
       "      <td>0</td>\n",
       "      <td>False</td>\n",
       "    </tr>\n",
       "    <tr>\n",
       "      <th>157</th>\n",
       "      <td>536384</td>\n",
       "      <td>22464</td>\n",
       "      <td>HANGING METAL HEART LANTERN</td>\n",
       "      <td>12</td>\n",
       "      <td>2010-12-01 09:53:00</td>\n",
       "      <td>1.65</td>\n",
       "      <td>18074.0</td>\n",
       "      <td>United Kingdom</td>\n",
       "      <td>2010</td>\n",
       "      <td>12</td>\n",
       "      <td>2010-12</td>\n",
       "      <td>19.80</td>\n",
       "      <td>0</td>\n",
       "      <td>False</td>\n",
       "    </tr>\n",
       "    <tr>\n",
       "      <th>158</th>\n",
       "      <td>536384</td>\n",
       "      <td>21324</td>\n",
       "      <td>HANGING MEDINA LANTERN SMALL</td>\n",
       "      <td>6</td>\n",
       "      <td>2010-12-01 09:53:00</td>\n",
       "      <td>2.95</td>\n",
       "      <td>18074.0</td>\n",
       "      <td>United Kingdom</td>\n",
       "      <td>2010</td>\n",
       "      <td>12</td>\n",
       "      <td>2010-12</td>\n",
       "      <td>17.70</td>\n",
       "      <td>0</td>\n",
       "      <td>False</td>\n",
       "    </tr>\n",
       "    <tr>\n",
       "      <th>159</th>\n",
       "      <td>536384</td>\n",
       "      <td>22457</td>\n",
       "      <td>NATURAL SLATE HEART CHALKBOARD</td>\n",
       "      <td>12</td>\n",
       "      <td>2010-12-01 09:53:00</td>\n",
       "      <td>2.95</td>\n",
       "      <td>18074.0</td>\n",
       "      <td>United Kingdom</td>\n",
       "      <td>2010</td>\n",
       "      <td>12</td>\n",
       "      <td>2010-12</td>\n",
       "      <td>35.40</td>\n",
       "      <td>0</td>\n",
       "      <td>False</td>\n",
       "    </tr>\n",
       "    <tr>\n",
       "      <th>...</th>\n",
       "      <td>...</td>\n",
       "      <td>...</td>\n",
       "      <td>...</td>\n",
       "      <td>...</td>\n",
       "      <td>...</td>\n",
       "      <td>...</td>\n",
       "      <td>...</td>\n",
       "      <td>...</td>\n",
       "      <td>...</td>\n",
       "      <td>...</td>\n",
       "      <td>...</td>\n",
       "      <td>...</td>\n",
       "      <td>...</td>\n",
       "      <td>...</td>\n",
       "    </tr>\n",
       "    <tr>\n",
       "      <th>541801</th>\n",
       "      <td>581578</td>\n",
       "      <td>22993</td>\n",
       "      <td>SET OF 4 PANTRY JELLY MOULDS</td>\n",
       "      <td>12</td>\n",
       "      <td>2011-12-09 12:16:00</td>\n",
       "      <td>1.25</td>\n",
       "      <td>12713.0</td>\n",
       "      <td>Germany</td>\n",
       "      <td>2011</td>\n",
       "      <td>12</td>\n",
       "      <td>2011-12</td>\n",
       "      <td>15.00</td>\n",
       "      <td>0</td>\n",
       "      <td>False</td>\n",
       "    </tr>\n",
       "    <tr>\n",
       "      <th>541802</th>\n",
       "      <td>581578</td>\n",
       "      <td>22907</td>\n",
       "      <td>PACK OF 20 NAPKINS PANTRY DESIGN</td>\n",
       "      <td>12</td>\n",
       "      <td>2011-12-09 12:16:00</td>\n",
       "      <td>0.85</td>\n",
       "      <td>12713.0</td>\n",
       "      <td>Germany</td>\n",
       "      <td>2011</td>\n",
       "      <td>12</td>\n",
       "      <td>2011-12</td>\n",
       "      <td>10.20</td>\n",
       "      <td>0</td>\n",
       "      <td>False</td>\n",
       "    </tr>\n",
       "    <tr>\n",
       "      <th>541803</th>\n",
       "      <td>581578</td>\n",
       "      <td>22908</td>\n",
       "      <td>PACK OF 20 NAPKINS RED APPLES</td>\n",
       "      <td>12</td>\n",
       "      <td>2011-12-09 12:16:00</td>\n",
       "      <td>0.85</td>\n",
       "      <td>12713.0</td>\n",
       "      <td>Germany</td>\n",
       "      <td>2011</td>\n",
       "      <td>12</td>\n",
       "      <td>2011-12</td>\n",
       "      <td>10.20</td>\n",
       "      <td>0</td>\n",
       "      <td>False</td>\n",
       "    </tr>\n",
       "    <tr>\n",
       "      <th>541804</th>\n",
       "      <td>581578</td>\n",
       "      <td>23215</td>\n",
       "      <td>JINGLE BELL HEART ANTIQUE SILVER</td>\n",
       "      <td>12</td>\n",
       "      <td>2011-12-09 12:16:00</td>\n",
       "      <td>2.08</td>\n",
       "      <td>12713.0</td>\n",
       "      <td>Germany</td>\n",
       "      <td>2011</td>\n",
       "      <td>12</td>\n",
       "      <td>2011-12</td>\n",
       "      <td>24.96</td>\n",
       "      <td>0</td>\n",
       "      <td>False</td>\n",
       "    </tr>\n",
       "    <tr>\n",
       "      <th>541805</th>\n",
       "      <td>581578</td>\n",
       "      <td>22736</td>\n",
       "      <td>RIBBON REEL MAKING SNOWMEN</td>\n",
       "      <td>10</td>\n",
       "      <td>2011-12-09 12:16:00</td>\n",
       "      <td>1.65</td>\n",
       "      <td>12713.0</td>\n",
       "      <td>Germany</td>\n",
       "      <td>2011</td>\n",
       "      <td>12</td>\n",
       "      <td>2011-12</td>\n",
       "      <td>16.50</td>\n",
       "      <td>0</td>\n",
       "      <td>False</td>\n",
       "    </tr>\n",
       "  </tbody>\n",
       "</table>\n",
       "<p>28815 rows × 14 columns</p>\n",
       "</div>"
      ],
      "text/plain": [
       "       InvoiceNo StockCode                          Description  Quantity  \\\n",
       "155       536384     82484    WOOD BLACK BOARD ANT WHITE FINISH         3   \n",
       "156       536384     84755  COLOUR GLASS T-LIGHT HOLDER HANGING        48   \n",
       "157       536384     22464          HANGING METAL HEART LANTERN        12   \n",
       "158       536384     21324         HANGING MEDINA LANTERN SMALL         6   \n",
       "159       536384     22457      NATURAL SLATE HEART CHALKBOARD         12   \n",
       "...          ...       ...                                  ...       ...   \n",
       "541801    581578     22993         SET OF 4 PANTRY JELLY MOULDS        12   \n",
       "541802    581578     22907     PACK OF 20 NAPKINS PANTRY DESIGN        12   \n",
       "541803    581578     22908        PACK OF 20 NAPKINS RED APPLES        12   \n",
       "541804    581578     23215     JINGLE BELL HEART ANTIQUE SILVER        12   \n",
       "541805    581578     22736          RIBBON REEL MAKING SNOWMEN         10   \n",
       "\n",
       "               InvoiceDate  UnitPrice  CustomerID         Country  Year  \\\n",
       "155    2010-12-01 09:53:00       6.45     18074.0  United Kingdom  2010   \n",
       "156    2010-12-01 09:53:00       0.65     18074.0  United Kingdom  2010   \n",
       "157    2010-12-01 09:53:00       1.65     18074.0  United Kingdom  2010   \n",
       "158    2010-12-01 09:53:00       2.95     18074.0  United Kingdom  2010   \n",
       "159    2010-12-01 09:53:00       2.95     18074.0  United Kingdom  2010   \n",
       "...                    ...        ...         ...             ...   ...   \n",
       "541801 2011-12-09 12:16:00       1.25     12713.0         Germany  2011   \n",
       "541802 2011-12-09 12:16:00       0.85     12713.0         Germany  2011   \n",
       "541803 2011-12-09 12:16:00       0.85     12713.0         Germany  2011   \n",
       "541804 2011-12-09 12:16:00       2.08     12713.0         Germany  2011   \n",
       "541805 2011-12-09 12:16:00       1.65     12713.0         Germany  2011   \n",
       "\n",
       "        Month YearMonth  Total_Amount  Returned  MultiplePurchases  \n",
       "155        12   2010-12         19.35         0              False  \n",
       "156        12   2010-12         31.20         0              False  \n",
       "157        12   2010-12         19.80         0              False  \n",
       "158        12   2010-12         17.70         0              False  \n",
       "159        12   2010-12         35.40         0              False  \n",
       "...       ...       ...           ...       ...                ...  \n",
       "541801     12   2011-12         15.00         0              False  \n",
       "541802     12   2011-12         10.20         0              False  \n",
       "541803     12   2011-12         10.20         0              False  \n",
       "541804     12   2011-12         24.96         0              False  \n",
       "541805     12   2011-12         16.50         0              False  \n",
       "\n",
       "[28815 rows x 14 columns]"
      ]
     },
     "execution_count": 13,
     "metadata": {},
     "output_type": "execute_result"
    }
   ],
   "source": [
    "# Convert InvoiceDate to datetime\n",
    "df_clean['InvoiceDate'] = pd.to_datetime(df_clean['InvoiceDate'])\n",
    "\n",
    "# Check if a customer has purchased more than once\n",
    "customer_purchases = df_clean.groupby('CustomerID')['InvoiceNo'].nunique()\n",
    "df_clean['MultiplePurchases'] = df_clean['CustomerID'].map(customer_purchases) > 1\n",
    "df_clean.head(3)\n",
    "\n",
    "df_clean[df_clean['MultiplePurchases']== False]"
   ]
  },
  {
   "cell_type": "code",
   "execution_count": 14,
   "metadata": {
    "colab": {
     "base_uri": "https://localhost:8080/",
     "height": 237
    },
    "id": "rCc-gSYOABsy",
    "outputId": "5069e4ae-0d93-46db-c5fe-b5efb8e8ea6e"
   },
   "outputs": [
    {
     "data": {
      "text/html": [
       "<div>\n",
       "<style scoped>\n",
       "    .dataframe tbody tr th:only-of-type {\n",
       "        vertical-align: middle;\n",
       "    }\n",
       "\n",
       "    .dataframe tbody tr th {\n",
       "        vertical-align: top;\n",
       "    }\n",
       "\n",
       "    .dataframe thead th {\n",
       "        text-align: right;\n",
       "    }\n",
       "</style>\n",
       "<table border=\"1\" class=\"dataframe\">\n",
       "  <thead>\n",
       "    <tr style=\"text-align: right;\">\n",
       "      <th></th>\n",
       "      <th>TotalOrders</th>\n",
       "      <th>UniqueItemsBought</th>\n",
       "      <th>LifetimeSpend</th>\n",
       "      <th>TotalItemsPurchased</th>\n",
       "      <th>AvgOrderValue</th>\n",
       "      <th>HasReturned</th>\n",
       "    </tr>\n",
       "    <tr>\n",
       "      <th>CustomerID</th>\n",
       "      <th></th>\n",
       "      <th></th>\n",
       "      <th></th>\n",
       "      <th></th>\n",
       "      <th></th>\n",
       "      <th></th>\n",
       "    </tr>\n",
       "  </thead>\n",
       "  <tbody>\n",
       "    <tr>\n",
       "      <th>12346.0</th>\n",
       "      <td>2</td>\n",
       "      <td>1</td>\n",
       "      <td>0.00</td>\n",
       "      <td>0</td>\n",
       "      <td>0.000000</td>\n",
       "      <td>1</td>\n",
       "    </tr>\n",
       "    <tr>\n",
       "      <th>12347.0</th>\n",
       "      <td>7</td>\n",
       "      <td>103</td>\n",
       "      <td>4310.00</td>\n",
       "      <td>2458</td>\n",
       "      <td>615.714286</td>\n",
       "      <td>0</td>\n",
       "    </tr>\n",
       "    <tr>\n",
       "      <th>12348.0</th>\n",
       "      <td>4</td>\n",
       "      <td>22</td>\n",
       "      <td>1797.24</td>\n",
       "      <td>2341</td>\n",
       "      <td>449.310000</td>\n",
       "      <td>0</td>\n",
       "    </tr>\n",
       "    <tr>\n",
       "      <th>12349.0</th>\n",
       "      <td>1</td>\n",
       "      <td>73</td>\n",
       "      <td>1757.55</td>\n",
       "      <td>631</td>\n",
       "      <td>1757.550000</td>\n",
       "      <td>0</td>\n",
       "    </tr>\n",
       "    <tr>\n",
       "      <th>12350.0</th>\n",
       "      <td>1</td>\n",
       "      <td>17</td>\n",
       "      <td>334.40</td>\n",
       "      <td>197</td>\n",
       "      <td>334.400000</td>\n",
       "      <td>0</td>\n",
       "    </tr>\n",
       "  </tbody>\n",
       "</table>\n",
       "</div>"
      ],
      "text/plain": [
       "            TotalOrders  UniqueItemsBought  LifetimeSpend  \\\n",
       "CustomerID                                                  \n",
       "12346.0               2                  1           0.00   \n",
       "12347.0               7                103        4310.00   \n",
       "12348.0               4                 22        1797.24   \n",
       "12349.0               1                 73        1757.55   \n",
       "12350.0               1                 17         334.40   \n",
       "\n",
       "            TotalItemsPurchased  AvgOrderValue  HasReturned  \n",
       "CustomerID                                                   \n",
       "12346.0                       0       0.000000            1  \n",
       "12347.0                    2458     615.714286            0  \n",
       "12348.0                    2341     449.310000            0  \n",
       "12349.0                     631    1757.550000            0  \n",
       "12350.0                     197     334.400000            0  "
      ]
     },
     "execution_count": 14,
     "metadata": {},
     "output_type": "execute_result"
    }
   ],
   "source": [
    "# Create a new DataFrame to hold aggregated features\n",
    "customer_data = df_clean.groupby('CustomerID').agg({\n",
    "    'InvoiceNo': pd.Series.nunique,\n",
    "    'StockCode': pd.Series.nunique,\n",
    "    'UnitPrice': lambda x: sum(x * df_clean.loc[x.index, 'Quantity']),  # Total spend\n",
    "    'Quantity': 'sum'  # Total items purchased\n",
    "}).rename(columns={\n",
    "    'InvoiceNo': 'TotalOrders',\n",
    "    'StockCode': 'UniqueItemsBought',\n",
    "    'UnitPrice': 'LifetimeSpend',\n",
    "    'Quantity': 'TotalItemsPurchased'\n",
    "})\n",
    "\n",
    "# Calculate average order value if customer had more than 1 order\n",
    "customer_data['AvgOrderValue'] = customer_data.apply(\n",
    "    lambda x: x['LifetimeSpend'] / x['TotalOrders'] if x['TotalOrders'] > 1 else x['LifetimeSpend'], axis=1\n",
    ")\n",
    "\n",
    "# Add a flag for returned orders per customer\n",
    "customer_data['HasReturned'] = df_clean.groupby('CustomerID')['Returned'].max()\n",
    "\n",
    "customer_data.head()"
   ]
  },
  {
   "cell_type": "code",
   "execution_count": 15,
   "metadata": {
    "id": "A-Ew3N-2GPa1"
   },
   "outputs": [],
   "source": [
    "customer_data['RepurchasedFlag'] = customer_data['TotalOrders'] > 1"
   ]
  },
  {
   "cell_type": "code",
   "execution_count": 16,
   "metadata": {
    "colab": {
     "base_uri": "https://localhost:8080/",
     "height": 174
    },
    "id": "vV_kzC7UNJZy",
    "outputId": "0da08917-a3a3-499a-bcc9-cf67091f2516"
   },
   "outputs": [
    {
     "data": {
      "text/html": [
       "<div>\n",
       "<style scoped>\n",
       "    .dataframe tbody tr th:only-of-type {\n",
       "        vertical-align: middle;\n",
       "    }\n",
       "\n",
       "    .dataframe tbody tr th {\n",
       "        vertical-align: top;\n",
       "    }\n",
       "\n",
       "    .dataframe thead th {\n",
       "        text-align: right;\n",
       "    }\n",
       "</style>\n",
       "<table border=\"1\" class=\"dataframe\">\n",
       "  <thead>\n",
       "    <tr style=\"text-align: right;\">\n",
       "      <th></th>\n",
       "      <th>TotalOrders</th>\n",
       "      <th>UniqueItemsBought</th>\n",
       "      <th>LifetimeSpend</th>\n",
       "      <th>TotalItemsPurchased</th>\n",
       "      <th>AvgOrderValue</th>\n",
       "      <th>HasReturned</th>\n",
       "      <th>RepurchasedFlag</th>\n",
       "    </tr>\n",
       "    <tr>\n",
       "      <th>CustomerID</th>\n",
       "      <th></th>\n",
       "      <th></th>\n",
       "      <th></th>\n",
       "      <th></th>\n",
       "      <th></th>\n",
       "      <th></th>\n",
       "      <th></th>\n",
       "    </tr>\n",
       "  </thead>\n",
       "  <tbody>\n",
       "    <tr>\n",
       "      <th>12346.0</th>\n",
       "      <td>2</td>\n",
       "      <td>1</td>\n",
       "      <td>0.00</td>\n",
       "      <td>0</td>\n",
       "      <td>0.000000</td>\n",
       "      <td>1</td>\n",
       "      <td>True</td>\n",
       "    </tr>\n",
       "    <tr>\n",
       "      <th>12347.0</th>\n",
       "      <td>7</td>\n",
       "      <td>103</td>\n",
       "      <td>4310.00</td>\n",
       "      <td>2458</td>\n",
       "      <td>615.714286</td>\n",
       "      <td>0</td>\n",
       "      <td>True</td>\n",
       "    </tr>\n",
       "    <tr>\n",
       "      <th>12348.0</th>\n",
       "      <td>4</td>\n",
       "      <td>22</td>\n",
       "      <td>1797.24</td>\n",
       "      <td>2341</td>\n",
       "      <td>449.310000</td>\n",
       "      <td>0</td>\n",
       "      <td>True</td>\n",
       "    </tr>\n",
       "  </tbody>\n",
       "</table>\n",
       "</div>"
      ],
      "text/plain": [
       "            TotalOrders  UniqueItemsBought  LifetimeSpend  \\\n",
       "CustomerID                                                  \n",
       "12346.0               2                  1           0.00   \n",
       "12347.0               7                103        4310.00   \n",
       "12348.0               4                 22        1797.24   \n",
       "\n",
       "            TotalItemsPurchased  AvgOrderValue  HasReturned  RepurchasedFlag  \n",
       "CustomerID                                                                    \n",
       "12346.0                       0       0.000000            1             True  \n",
       "12347.0                    2458     615.714286            0             True  \n",
       "12348.0                    2341     449.310000            0             True  "
      ]
     },
     "execution_count": 16,
     "metadata": {},
     "output_type": "execute_result"
    }
   ],
   "source": [
    "customer_data.head(3)"
   ]
  },
  {
   "cell_type": "markdown",
   "metadata": {
    "id": "JAkYATmMbjVv"
   },
   "source": [
    "## Feature Scaling"
   ]
  },
  {
   "cell_type": "code",
   "execution_count": 17,
   "metadata": {
    "id": "lP2-MYF4boPt"
   },
   "outputs": [
    {
     "name": "stdout",
     "output_type": "stream",
     "text": [
      "   Quantity  UnitPrice  Total_Amount\n",
      "0 -0.024373  -0.013135     -0.011932\n",
      "1 -0.024373  -0.001017     -0.000145\n",
      "2 -0.016331  -0.010250      0.003738\n",
      "3 -0.024373  -0.001017     -0.000145\n",
      "4 -0.024373  -0.001017     -0.000145\n"
     ]
    },
    {
     "name": "stderr",
     "output_type": "stream",
     "text": [
      "/var/folders/b2/md2wh5xd6nxf2ncnmqdwgzlc0000gn/T/ipykernel_4415/774730286.py:10: SettingWithCopyWarning: \n",
      "A value is trying to be set on a copy of a slice from a DataFrame.\n",
      "Try using .loc[row_indexer,col_indexer] = value instead\n",
      "\n",
      "See the caveats in the documentation: https://pandas.pydata.org/pandas-docs/stable/user_guide/indexing.html#returning-a-view-versus-a-copy\n",
      "  df_clean[features_to_scale] = scaler.fit_transform(df_clean[features_to_scale])\n"
     ]
    }
   ],
   "source": [
    "from sklearn.preprocessing import StandardScaler\n",
    "\n",
    "# Select the features to scale\n",
    "features_to_scale = ['Quantity', 'UnitPrice', 'Total_Amount']\n",
    "\n",
    "# Initialize the StandardScaler\n",
    "scaler = StandardScaler()\n",
    "\n",
    "# Fit the scaler to the features and transform\n",
    "df_clean[features_to_scale] = scaler.fit_transform(df_clean[features_to_scale])\n",
    "\n",
    "# Display the first few rows to confirm scaling\n",
    "print(df_clean[features_to_scale].head())\n"
   ]
  },
  {
   "cell_type": "code",
   "execution_count": 18,
   "metadata": {},
   "outputs": [],
   "source": [
    "## Experimenting with Models "
   ]
  },
  {
   "cell_type": "code",
   "execution_count": 19,
   "metadata": {},
   "outputs": [],
   "source": [
    "## Initial Setup and Data Preprocessing\n",
    "import pandas as pd\n",
    "from sklearn.model_selection import train_test_split\n",
    "\n",
    "# Load the dataset\n",
    "df = pd.read_excel(\"Online Retail.xlsx\")\n",
    "\n",
    "# Ensure the DataFrame is a separate copy after dropping missing values\n",
    "df_clean = df.dropna().copy()\n",
    "\n",
    "# Adding the Total_Amount feature by multiplying Quantity and UnitPrice\n",
    "df_clean['Total_Amount'] = df_clean['Quantity'] * df_clean['UnitPrice']\n",
    "\n",
    "# Create 'MultiplePurchases' and 'IsReturnCustomer' columns\n",
    "if 'CustomerID' in df_clean.columns and 'InvoiceNo' in df_clean.columns:\n",
    "    customer_orders = df_clean.groupby('CustomerID')['InvoiceNo'].nunique()\n",
    "    df_clean['MultiplePurchases'] = df_clean['CustomerID'].map(customer_orders)\n",
    "    df_clean['IsReturnCustomer'] = (df_clean['MultiplePurchases'] > 1).astype(int)\n",
    "else:\n",
    "    print(\"Required columns are missing!\")\n",
    "\n",
    "# Select numeric columns only for model input\n",
    "numeric_cols = df_clean.select_dtypes(include=['number']).columns.tolist()\n",
    "X = df_clean[numeric_cols].drop('IsReturnCustomer', axis=1, errors='ignore')\n",
    "y = df_clean['IsReturnCustomer']\n",
    "\n",
    "# Split the dataset into training and testing sets\n",
    "X_train, X_test, y_train, y_test = train_test_split(X, y, test_size=0.2, random_state=42)\n"
   ]
  },
  {
   "cell_type": "code",
   "execution_count": 20,
   "metadata": {},
   "outputs": [
    {
     "name": "stdout",
     "output_type": "stream",
     "text": [
      "KNN performance:\n",
      "Accuracy: 0.9794385861416316\n",
      "Precision: 0.9846301003695065\n",
      "Recall: 0.993390177804217\n",
      "F1 Score: 0.9889907411672578\n",
      "ROC AUC: 0.8941780464270167\n",
      "KNN Cross-validation scores: 0.9314355541121463\n"
     ]
    }
   ],
   "source": [
    "## KNN Model Training and Eval\n",
    "from sklearn.neighbors import KNeighborsClassifier\n",
    "from sklearn.metrics import accuracy_score, precision_score, recall_score, f1_score, roc_auc_score\n",
    "from sklearn.model_selection import cross_val_score\n",
    "\n",
    "# KNN Model\n",
    "knn = KNeighborsClassifier(n_neighbors=3)\n",
    "knn.fit(X_train, y_train)\n",
    "y_pred_knn = knn.predict(X_test)\n",
    "\n",
    "# Evaluate KNN\n",
    "print(\"KNN performance:\")\n",
    "print(f\"Accuracy: {accuracy_score(y_test, y_pred_knn)}\")\n",
    "print(f\"Precision: {precision_score(y_test, y_pred_knn)}\")\n",
    "print(f\"Recall: {recall_score(y_test, y_pred_knn)}\")\n",
    "print(f\"F1 Score: {f1_score(y_test, y_pred_knn)}\")\n",
    "print(f\"ROC AUC: {roc_auc_score(y_test, y_pred_knn)}\")\n",
    "\n",
    "cv_scores_knn = cross_val_score(knn, X, y, cv=5)\n",
    "print(\"KNN Cross-validation scores:\", cv_scores_knn.mean())\n"
   ]
  },
  {
   "cell_type": "code",
   "execution_count": 21,
   "metadata": {},
   "outputs": [
    {
     "name": "stdout",
     "output_type": "stream",
     "text": [
      "Random Forest performance:\n",
      "Accuracy: 1.0\n",
      "Precision: 1.0\n",
      "Recall: 1.0\n",
      "F1 Score: 1.0\n",
      "ROC AUC: 1.0\n",
      "Random Forest Cross-validation scores: 1.0\n"
     ]
    }
   ],
   "source": [
    "## Random Forest Model Training and Eval\n",
    "from sklearn.ensemble import RandomForestClassifier\n",
    "\n",
    "# Random Forest Model\n",
    "rf = RandomForestClassifier(n_estimators=100, max_depth=10)\n",
    "rf.fit(X_train, y_train)\n",
    "y_pred_rf = rf.predict(X_test)\n",
    "\n",
    "# Evaluate Random Forest\n",
    "print(\"Random Forest performance:\")\n",
    "print(f\"Accuracy: {accuracy_score(y_test, y_pred_rf)}\")\n",
    "print(f\"Precision: {precision_score(y_test, y_pred_rf)}\")\n",
    "print(f\"Recall: {recall_score(y_test, y_pred_rf)}\")\n",
    "print(f\"F1 Score: {f1_score(y_test, y_pred_rf)}\")\n",
    "print(f\"ROC AUC: {roc_auc_score(y_test, y_pred_rf)}\")\n",
    "\n",
    "cv_scores_rf = cross_val_score(rf, X, y, cv=5)\n",
    "print(\"Random Forest Cross-validation scores:\", cv_scores_rf.mean())\n"
   ]
  },
  {
   "cell_type": "code",
   "execution_count": 22,
   "metadata": {},
   "outputs": [
    {
     "name": "stdout",
     "output_type": "stream",
     "text": [
      "Logistic Regression performance:\n",
      "Accuracy: 1.0\n",
      "Precision: 1.0\n",
      "Recall: 1.0\n",
      "F1 Score: 1.0\n",
      "ROC AUC: 1.0\n",
      "Logistic Regression Cross-validation scores: 0.9999926258521235\n"
     ]
    }
   ],
   "source": [
    "## Logistic Regression Model Training and Eval\n",
    "from sklearn.linear_model import LogisticRegression\n",
    "\n",
    "# Logistic Regression Model\n",
    "log_reg = LogisticRegression(max_iter=1000)\n",
    "log_reg.fit(X_train, y_train)\n",
    "y_pred_lr = log_reg.predict(X_test)\n",
    "\n",
    "# Evaluate Logistic Regression\n",
    "print(\"Logistic Regression performance:\")\n",
    "print(f\"Accuracy: {accuracy_score(y_test, y_pred_lr)}\")\n",
    "print(f\"Precision: {precision_score(y_test, y_pred_lr)}\")\n",
    "print(f\"Recall: {recall_score(y_test, y_pred_lr)}\")\n",
    "print(f\"F1 Score: {f1_score(y_test, y_pred_lr)}\")\n",
    "print(f\"ROC AUC: {roc_auc_score(y_test, y_pred_lr)}\")\n",
    "\n",
    "cv_scores_lr = cross_val_score(log_reg, X, y, cv=5)\n",
    "print(\"Logistic Regression Cross-validation scores:\", cv_scores_lr.mean())\n"
   ]
  },
  {
   "cell_type": "code",
   "execution_count": 24,
   "metadata": {},
   "outputs": [
    {
     "name": "stdout",
     "output_type": "stream",
     "text": [
      "Fitting 3 folds for each of 4 candidates, totalling 12 fits\n",
      "Optimal n_neighbors: 3\n",
      "Fitting 3 folds for each of 4 candidates, totalling 12 fits\n",
      "Best weights and metric: {'metric': 'manhattan', 'weights': 'distance'}\n",
      "Best score with optimized weights and metric: 0.9576599000283955\n"
     ]
    }
   ],
   "source": [
    "## Tuning KNN Classifier\n",
    "from sklearn.model_selection import train_test_split\n",
    "\n",
    "# Create a smaller sample to speed up the GridSearch\n",
    "X_train_sample, _, y_train_sample, _ = train_test_split(X_train, y_train, train_size=0.1, random_state=42)  # Adjust train_size to control the sample size\n",
    "\n",
    "# Now you can proceed with your GridSearch as you have it set up\n",
    "from sklearn.model_selection import GridSearchCV\n",
    "from sklearn.neighbors import KNeighborsClassifier\n",
    "\n",
    "# Initialize the KNN model\n",
    "knn = KNeighborsClassifier()\n",
    "\n",
    "# First Grid Search to find the best 'n_neighbors'\n",
    "param_grid_neighbors = {\n",
    "    'n_neighbors': [3, 5, 7, 10]\n",
    "}\n",
    "grid_search_neighbors = GridSearchCV(estimator=knn, param_grid=param_grid_neighbors, cv=3, verbose=2, scoring='accuracy', n_jobs=-1)\n",
    "grid_search_neighbors.fit(X_train_sample, y_train_sample)\n",
    "best_n_neighbors = grid_search_neighbors.best_params_['n_neighbors']\n",
    "print(\"Optimal n_neighbors:\", best_n_neighbors)\n",
    "\n",
    "# Second Grid Search to optimize 'weights' and 'metric' with the best 'n_neighbors'\n",
    "param_grid_weights_metric = {\n",
    "    'weights': ['uniform', 'distance'],\n",
    "    'metric': ['euclidean', 'manhattan']\n",
    "}\n",
    "knn_optimized_neighbors = KNeighborsClassifier(n_neighbors=best_n_neighbors)\n",
    "grid_search_wm = GridSearchCV(estimator=knn_optimized_neighbors, param_grid=param_grid_weights_metric, cv=3, verbose=2, scoring='accuracy', n_jobs=-1)\n",
    "grid_search_wm.fit(X_train_sample, y_train_sample)\n",
    "\n",
    "# Output the best parameters and their scores\n",
    "print(\"Best weights and metric:\", grid_search_wm.best_params_)\n",
    "print(\"Best score with optimized weights and metric:\", grid_search_wm.best_score_)"
   ]
  },
  {
   "cell_type": "code",
   "execution_count": 25,
   "metadata": {},
   "outputs": [
    {
     "name": "stdout",
     "output_type": "stream",
     "text": [
      "Fitting 5 folds for each of 27 candidates, totalling 135 fits\n",
      "[CV] END max_depth=10, min_samples_split=2, n_estimators=100; total time=   5.0s\n",
      "[CV] END max_depth=10, min_samples_split=2, n_estimators=100; total time=   4.9s\n",
      "[CV] END max_depth=10, min_samples_split=2, n_estimators=100; total time=   4.7s\n",
      "[CV] END max_depth=10, min_samples_split=2, n_estimators=100; total time=   4.5s\n",
      "[CV] END max_depth=10, min_samples_split=2, n_estimators=100; total time=   4.8s\n",
      "[CV] END max_depth=10, min_samples_split=2, n_estimators=200; total time=   9.3s\n",
      "[CV] END max_depth=10, min_samples_split=2, n_estimators=200; total time=   9.7s\n",
      "[CV] END max_depth=10, min_samples_split=2, n_estimators=200; total time=   8.6s\n",
      "[CV] END max_depth=10, min_samples_split=2, n_estimators=200; total time=   9.0s\n",
      "[CV] END max_depth=10, min_samples_split=2, n_estimators=200; total time=   9.3s\n",
      "[CV] END max_depth=10, min_samples_split=2, n_estimators=300; total time=  14.1s\n",
      "[CV] END max_depth=10, min_samples_split=2, n_estimators=300; total time=  14.0s\n",
      "[CV] END max_depth=10, min_samples_split=2, n_estimators=300; total time=  13.6s\n",
      "[CV] END max_depth=10, min_samples_split=2, n_estimators=300; total time=  14.3s\n",
      "[CV] END max_depth=10, min_samples_split=2, n_estimators=300; total time=  14.1s\n",
      "[CV] END ......................................n_neighbors=7; total time=   0.4s\n",
      "[CV] END .................metric=euclidean, weights=distance; total time=   0.1s\n",
      "[CV] END ......................................n_neighbors=5; total time=   0.4s\n",
      "[CV] END .................metric=manhattan, weights=distance; total time=   0.1s\n",
      "[CV] END ......................................n_neighbors=3; total time=   0.4s\n",
      "[CV] END .....................................n_neighbors=10; total time=   0.4s\n",
      "[CV] END .................metric=euclidean, weights=distance; total time=   0.1s\n",
      "[CV] END .................metric=manhattan, weights=distance; total time=   0.1s\n",
      "[CV] END ......................................n_neighbors=7; total time=   0.4s\n",
      "[CV] END .................metric=euclidean, weights=distance; total time=   0.1s\n",
      "[CV] END .................metric=manhattan, weights=distance; total time=   0.1s\n",
      "[CV] END ......................................n_neighbors=5; total time=   0.4s\n",
      "[CV] END ..................metric=euclidean, weights=uniform; total time=   0.4s\n",
      "[CV] END ......................................n_neighbors=3; total time=   0.4s\n",
      "[CV] END .....................................n_neighbors=10; total time=   0.4s\n",
      "[CV] END ..................metric=euclidean, weights=uniform; total time=   0.4s\n",
      "[CV] END ......................................n_neighbors=3; total time=   0.4s\n",
      "[CV] END ..................metric=manhattan, weights=uniform; total time=   0.4s\n",
      "[CV] END ......................................n_neighbors=7; total time=   0.4s\n",
      "[CV] END ..................metric=manhattan, weights=uniform; total time=   0.4s\n",
      "[CV] END .....................................n_neighbors=10; total time=   0.4s\n",
      "[CV] END ..................metric=manhattan, weights=uniform; total time=   0.4s\n",
      "[CV] END max_depth=10, min_samples_split=5, n_estimators=100; total time=   4.9s\n",
      "[CV] END max_depth=10, min_samples_split=5, n_estimators=100; total time=   4.7s\n",
      "[CV] END max_depth=10, min_samples_split=5, n_estimators=100; total time=   4.9s\n",
      "[CV] END max_depth=10, min_samples_split=5, n_estimators=100; total time=   4.8s\n",
      "[CV] END max_depth=10, min_samples_split=5, n_estimators=100; total time=   4.7s\n",
      "[CV] END max_depth=10, min_samples_split=5, n_estimators=200; total time=   9.1s\n",
      "[CV] END max_depth=10, min_samples_split=5, n_estimators=200; total time=   9.7s\n",
      "[CV] END max_depth=10, min_samples_split=5, n_estimators=200; total time=   9.2s\n",
      "[CV] END max_depth=10, min_samples_split=5, n_estimators=200; total time=   9.0s\n",
      "[CV] END max_depth=10, min_samples_split=5, n_estimators=200; total time=   9.5s\n",
      "[CV] END max_depth=10, min_samples_split=5, n_estimators=300; total time=  14.0s\n",
      "[CV] END max_depth=10, min_samples_split=5, n_estimators=300; total time=  14.5s\n",
      "[CV] END max_depth=10, min_samples_split=5, n_estimators=300; total time=  14.1s\n",
      "[CV] END max_depth=10, min_samples_split=5, n_estimators=300; total time=  13.7s\n",
      "[CV] END max_depth=10, min_samples_split=5, n_estimators=300; total time=  13.7s\n",
      "[CV] END max_depth=10, min_samples_split=10, n_estimators=100; total time=   4.5s\n",
      "[CV] END max_depth=10, min_samples_split=10, n_estimators=100; total time=   4.3s\n",
      "[CV] END max_depth=10, min_samples_split=10, n_estimators=100; total time=   4.4s\n",
      "[CV] END max_depth=10, min_samples_split=10, n_estimators=100; total time=   4.6s\n",
      "[CV] END max_depth=10, min_samples_split=10, n_estimators=100; total time=   4.4s\n",
      "[CV] END max_depth=10, min_samples_split=10, n_estimators=200; total time=   9.3s\n",
      "[CV] END max_depth=10, min_samples_split=10, n_estimators=200; total time=   8.9s\n",
      "[CV] END max_depth=10, min_samples_split=10, n_estimators=200; total time=   8.5s\n",
      "[CV] END max_depth=10, min_samples_split=10, n_estimators=200; total time=   9.6s\n",
      "[CV] END max_depth=10, min_samples_split=10, n_estimators=200; total time=   9.0s\n",
      "[CV] END max_depth=10, min_samples_split=10, n_estimators=300; total time=  14.0s\n",
      "[CV] END max_depth=10, min_samples_split=10, n_estimators=300; total time=  14.0s\n",
      "[CV] END max_depth=10, min_samples_split=10, n_estimators=300; total time=  13.6s\n",
      "[CV] END max_depth=10, min_samples_split=10, n_estimators=300; total time=  14.4s\n",
      "[CV] END max_depth=10, min_samples_split=10, n_estimators=300; total time=  13.5s\n",
      "[CV] END max_depth=20, min_samples_split=2, n_estimators=100; total time=   4.6s\n",
      "[CV] END max_depth=20, min_samples_split=2, n_estimators=100; total time=   4.8s\n",
      "[CV] END max_depth=20, min_samples_split=2, n_estimators=100; total time=   4.9s\n",
      "[CV] END max_depth=20, min_samples_split=2, n_estimators=100; total time=   4.6s\n",
      "[CV] END max_depth=20, min_samples_split=2, n_estimators=100; total time=   4.9s\n",
      "[CV] END ......................................n_neighbors=5; total time=   0.4s\n",
      "[CV] END ..................metric=euclidean, weights=uniform; total time=   0.4s\n",
      "[CV] END max_depth=20, min_samples_split=2, n_estimators=200; total time=   9.1s\n",
      "[CV] END max_depth=20, min_samples_split=2, n_estimators=200; total time=   9.5s\n",
      "[CV] END max_depth=20, min_samples_split=2, n_estimators=200; total time=   9.2s\n",
      "[CV] END max_depth=20, min_samples_split=2, n_estimators=200; total time=   9.1s\n",
      "[CV] END max_depth=20, min_samples_split=2, n_estimators=200; total time=   9.4s\n",
      "[CV] END max_depth=20, min_samples_split=2, n_estimators=300; total time=  14.1s\n",
      "[CV] END max_depth=20, min_samples_split=2, n_estimators=300; total time=  13.6s\n",
      "[CV] END max_depth=20, min_samples_split=2, n_estimators=300; total time=  14.6s\n",
      "[CV] END max_depth=20, min_samples_split=2, n_estimators=300; total time=  13.8s\n",
      "[CV] END max_depth=20, min_samples_split=2, n_estimators=300; total time=  14.1s\n",
      "[CV] END max_depth=20, min_samples_split=5, n_estimators=100; total time=   4.5s\n",
      "[CV] END max_depth=20, min_samples_split=5, n_estimators=100; total time=   4.9s\n",
      "[CV] END max_depth=20, min_samples_split=5, n_estimators=100; total time=   4.9s\n",
      "[CV] END max_depth=20, min_samples_split=5, n_estimators=100; total time=   4.8s\n",
      "[CV] END max_depth=20, min_samples_split=5, n_estimators=100; total time=   5.0s\n",
      "[CV] END max_depth=20, min_samples_split=5, n_estimators=200; total time=  10.1s\n",
      "[CV] END max_depth=20, min_samples_split=5, n_estimators=200; total time=   9.5s\n",
      "[CV] END max_depth=20, min_samples_split=5, n_estimators=200; total time=   9.0s\n",
      "[CV] END max_depth=20, min_samples_split=5, n_estimators=200; total time=   9.1s\n",
      "[CV] END max_depth=20, min_samples_split=5, n_estimators=200; total time=   9.0s\n",
      "[CV] END max_depth=20, min_samples_split=5, n_estimators=300; total time=  13.8s\n",
      "[CV] END max_depth=20, min_samples_split=5, n_estimators=300; total time=  13.6s\n",
      "[CV] END max_depth=20, min_samples_split=5, n_estimators=300; total time=  14.1s\n",
      "[CV] END max_depth=20, min_samples_split=5, n_estimators=300; total time=  14.0s\n",
      "[CV] END max_depth=20, min_samples_split=5, n_estimators=300; total time=  14.7s\n",
      "[CV] END max_depth=20, min_samples_split=10, n_estimators=100; total time=   4.6s\n",
      "[CV] END max_depth=20, min_samples_split=10, n_estimators=100; total time=   5.0s\n",
      "[CV] END max_depth=20, min_samples_split=10, n_estimators=100; total time=   4.6s\n",
      "[CV] END max_depth=20, min_samples_split=10, n_estimators=100; total time=   4.7s\n",
      "[CV] END max_depth=20, min_samples_split=10, n_estimators=100; total time=   4.9s\n",
      "[CV] END max_depth=20, min_samples_split=10, n_estimators=200; total time=   9.6s\n",
      "[CV] END max_depth=20, min_samples_split=10, n_estimators=200; total time=   9.2s\n",
      "[CV] END max_depth=20, min_samples_split=10, n_estimators=200; total time=   9.8s\n",
      "[CV] END max_depth=20, min_samples_split=10, n_estimators=200; total time=  10.0s\n",
      "[CV] END max_depth=20, min_samples_split=10, n_estimators=200; total time=   8.8s\n",
      "[CV] END max_depth=20, min_samples_split=10, n_estimators=300; total time=  14.4s\n",
      "[CV] END max_depth=20, min_samples_split=10, n_estimators=300; total time=  13.7s\n",
      "[CV] END max_depth=20, min_samples_split=10, n_estimators=300; total time=  13.6s\n",
      "[CV] END max_depth=20, min_samples_split=10, n_estimators=300; total time=  14.5s\n",
      "[CV] END max_depth=20, min_samples_split=10, n_estimators=300; total time=  13.7s\n",
      "[CV] END max_depth=30, min_samples_split=2, n_estimators=100; total time=   5.0s\n",
      "[CV] END max_depth=30, min_samples_split=2, n_estimators=100; total time=   5.3s\n",
      "[CV] END max_depth=30, min_samples_split=2, n_estimators=100; total time=   4.6s\n",
      "[CV] END max_depth=30, min_samples_split=2, n_estimators=100; total time=   4.7s\n",
      "[CV] END max_depth=30, min_samples_split=2, n_estimators=100; total time=   4.6s\n",
      "[CV] END max_depth=30, min_samples_split=2, n_estimators=200; total time=   9.3s\n",
      "[CV] END max_depth=30, min_samples_split=2, n_estimators=200; total time=   9.3s\n",
      "[CV] END max_depth=30, min_samples_split=2, n_estimators=200; total time=   9.4s\n",
      "[CV] END max_depth=30, min_samples_split=2, n_estimators=200; total time=   9.2s\n",
      "[CV] END max_depth=30, min_samples_split=2, n_estimators=200; total time=   9.6s\n",
      "[CV] END max_depth=30, min_samples_split=2, n_estimators=300; total time=  15.1s\n",
      "[CV] END max_depth=30, min_samples_split=2, n_estimators=300; total time=  13.7s\n",
      "[CV] END max_depth=30, min_samples_split=2, n_estimators=300; total time=  13.7s\n",
      "[CV] END max_depth=30, min_samples_split=2, n_estimators=300; total time=  14.3s\n",
      "[CV] END max_depth=30, min_samples_split=2, n_estimators=300; total time=  14.0s\n",
      "[CV] END max_depth=30, min_samples_split=5, n_estimators=100; total time=   4.4s\n",
      "[CV] END max_depth=30, min_samples_split=5, n_estimators=100; total time=   4.9s\n",
      "[CV] END max_depth=30, min_samples_split=5, n_estimators=100; total time=   4.6s\n",
      "[CV] END max_depth=30, min_samples_split=5, n_estimators=100; total time=   4.5s\n",
      "[CV] END max_depth=30, min_samples_split=5, n_estimators=100; total time=   5.1s\n",
      "[CV] END max_depth=30, min_samples_split=5, n_estimators=200; total time=   9.6s\n",
      "[CV] END max_depth=30, min_samples_split=5, n_estimators=200; total time=   9.2s\n",
      "[CV] END max_depth=30, min_samples_split=5, n_estimators=200; total time=   8.9s\n",
      "[CV] END max_depth=30, min_samples_split=5, n_estimators=200; total time=   8.4s\n",
      "[CV] END max_depth=30, min_samples_split=5, n_estimators=200; total time=   9.4s\n",
      "[CV] END max_depth=30, min_samples_split=5, n_estimators=300; total time=  14.2s\n",
      "[CV] END max_depth=30, min_samples_split=5, n_estimators=300; total time=  13.8s\n",
      "[CV] END max_depth=30, min_samples_split=5, n_estimators=300; total time=  13.3s\n",
      "[CV] END max_depth=30, min_samples_split=5, n_estimators=300; total time=  14.8s\n",
      "[CV] END max_depth=30, min_samples_split=5, n_estimators=300; total time=  14.0s\n",
      "[CV] END max_depth=30, min_samples_split=10, n_estimators=100; total time=   4.9s\n",
      "[CV] END max_depth=30, min_samples_split=10, n_estimators=100; total time=   4.5s\n",
      "[CV] END max_depth=30, min_samples_split=10, n_estimators=100; total time=   4.1s\n",
      "[CV] END max_depth=30, min_samples_split=10, n_estimators=100; total time=   4.2s\n",
      "[CV] END max_depth=30, min_samples_split=10, n_estimators=100; total time=   4.8s\n",
      "[CV] END max_depth=30, min_samples_split=10, n_estimators=200; total time=   8.9s\n",
      "[CV] END max_depth=30, min_samples_split=10, n_estimators=200; total time=   9.3s\n",
      "[CV] END max_depth=30, min_samples_split=10, n_estimators=200; total time=   8.8s\n",
      "[CV] END max_depth=30, min_samples_split=10, n_estimators=200; total time=   9.7s\n",
      "[CV] END max_depth=30, min_samples_split=10, n_estimators=200; total time=   9.3s\n",
      "[CV] END max_depth=30, min_samples_split=10, n_estimators=300; total time=  13.9s\n",
      "[CV] END max_depth=30, min_samples_split=10, n_estimators=300; total time=  13.6s\n",
      "[CV] END max_depth=30, min_samples_split=10, n_estimators=300; total time=  13.7s\n",
      "[CV] END max_depth=30, min_samples_split=10, n_estimators=300; total time=  13.8s\n",
      "[CV] END max_depth=30, min_samples_split=10, n_estimators=300; total time=  13.0s\n",
      "Best parameters for Random Forest: {'max_depth': 10, 'min_samples_split': 2, 'n_estimators': 100}\n",
      "Best score for Random Forest: 1.0\n"
     ]
    }
   ],
   "source": [
    "## Tuning Random Forest Classifier\n",
    "from sklearn.ensemble import RandomForestClassifier\n",
    "\n",
    "rf = RandomForestClassifier()\n",
    "\n",
    "param_grid = {\n",
    "    'n_estimators': [100, 200, 300],  # number of trees\n",
    "    'max_depth': [10, 20, 30],  # depth of trees\n",
    "    'min_samples_split': [2, 5, 10]  # minimum number of samples required to split a node\n",
    "}\n",
    "\n",
    "grid_search_rf = GridSearchCV(estimator=rf, param_grid=param_grid, cv=5, verbose=2, scoring='accuracy')\n",
    "grid_search_rf.fit(X_train, y_train)\n",
    "\n",
    "print(\"Best parameters for Random Forest:\", grid_search_rf.best_params_)\n",
    "print(\"Best score for Random Forest:\", grid_search_rf.best_score_)\n"
   ]
  },
  {
   "cell_type": "code",
   "execution_count": 26,
   "metadata": {},
   "outputs": [
    {
     "name": "stdout",
     "output_type": "stream",
     "text": [
      "KNN CV Metrics:\n",
      "Average accuracy: 0.9314355541121463\n",
      "Average precision: 0.9499678197235415\n",
      "Average recall: 0.9777018681986103\n",
      "Average f1: 0.9636299608074921\n",
      "Average roc_auc: 0.7035538529813952\n",
      "Random Forest CV Metrics:\n",
      "Average accuracy: 1.0\n",
      "Average precision: 1.0\n",
      "Average recall: 1.0\n",
      "Average f1: 1.0\n",
      "Average roc_auc: 1.0\n",
      "Logistic Regression CV Metrics:\n",
      "Average accuracy: 0.9999926258521235\n",
      "Average precision: 0.9999973545673395\n",
      "Average recall: 0.99999470916967\n",
      "Average f1: 0.9999960318597572\n",
      "Average roc_auc: 0.9999917176227937\n"
     ]
    }
   ],
   "source": [
    "## Advanced Model Evaluation through K-Fold Cross-Validation\n",
    "from sklearn.model_selection import cross_validate\n",
    "import numpy as np\n",
    "\n",
    "# Assuming knn, rf, and log_reg are already defined and optimized\n",
    "\n",
    "models = {\n",
    "    'KNN': knn_optimized_neighbors,\n",
    "    'Random Forest': rf,\n",
    "    'Logistic Regression': log_reg  # Assuming log_reg is your optimized Logistic Regression model\n",
    "}\n",
    "\n",
    "scoring = ['accuracy', 'precision', 'recall', 'f1', 'roc_auc']\n",
    "for name, model in models.items():\n",
    "    cv_results = cross_validate(model, X, y, cv=5, scoring=scoring, return_train_score=False)\n",
    "    print(f\"{name} CV Metrics:\")\n",
    "    for score in scoring:\n",
    "        mean_score = np.mean(cv_results[f'test_{score}'])\n",
    "        print(f\"Average {score}: {mean_score}\")"
   ]
  },
  {
   "cell_type": "code",
   "execution_count": 28,
   "metadata": {},
   "outputs": [
    {
     "name": "stdout",
     "output_type": "stream",
     "text": [
      "KNN Confusion Matrix:\n"
     ]
    },
    {
     "data": {
      "image/png": "[encoded data removed]",
      "text/plain": [
       "<Figure size 640x480 with 2 Axes>"
      ]
     },
     "metadata": {},
     "output_type": "display_data"
    },
    {
     "name": "stdout",
     "output_type": "stream",
     "text": [
      "KNN Classification Report:\n",
      "              precision    recall  f1-score   support\n",
      "\n",
      "           0       0.90      0.79      0.84      5721\n",
      "           1       0.98      0.99      0.99     75645\n",
      "\n",
      "    accuracy                           0.98     81366\n",
      "   macro avg       0.94      0.89      0.92     81366\n",
      "weighted avg       0.98      0.98      0.98     81366\n",
      "\n",
      "Random Forest Confusion Matrix:\n"
     ]
    },
    {
     "data": {
      "image/png": "[encoded data removed]",
      "text/plain": [
       "<Figure size 640x480 with 2 Axes>"
      ]
     },
     "metadata": {},
     "output_type": "display_data"
    },
    {
     "name": "stdout",
     "output_type": "stream",
     "text": [
      "Random Forest Classification Report:\n",
      "              precision    recall  f1-score   support\n",
      "\n",
      "           0       1.00      1.00      1.00      5721\n",
      "           1       1.00      1.00      1.00     75645\n",
      "\n",
      "    accuracy                           1.00     81366\n",
      "   macro avg       1.00      1.00      1.00     81366\n",
      "weighted avg       1.00      1.00      1.00     81366\n",
      "\n",
      "Logistic Regression Confusion Matrix:\n"
     ]
    },
    {
     "data": {
      "image/png": "[encoded data removed]",
      "text/plain": [
       "<Figure size 640x480 with 2 Axes>"
      ]
     },
     "metadata": {},
     "output_type": "display_data"
    },
    {
     "name": "stdout",
     "output_type": "stream",
     "text": [
      "Logistic Regression Classification Report:\n",
      "              precision    recall  f1-score   support\n",
      "\n",
      "           0       1.00      1.00      1.00      5721\n",
      "           1       1.00      1.00      1.00     75645\n",
      "\n",
      "    accuracy                           1.00     81366\n",
      "   macro avg       1.00      1.00      1.00     81366\n",
      "weighted avg       1.00      1.00      1.00     81366\n",
      "\n"
     ]
    }
   ],
   "source": [
    "## Confusion Matrix and Other Metrics\n",
    "from sklearn.metrics import confusion_matrix, classification_report\n",
    "from sklearn.metrics import ConfusionMatrixDisplay\n",
    "import matplotlib.pyplot as plt\n",
    "\n",
    "# Fit models on the entire training data and evaluate on the test data\n",
    "for name, model in models.items():\n",
    "    model.fit(X_train, y_train)\n",
    "    y_pred = model.predict(X_test)\n",
    "    \n",
    "    # Display the confusion matrix using a plot for better visualization\n",
    "    print(f\"{name} Confusion Matrix:\")\n",
    "    cm = confusion_matrix(y_test, y_pred)\n",
    "    disp = ConfusionMatrixDisplay(confusion_matrix=cm)\n",
    "    disp.plot(cmap=plt.cm.Blues)\n",
    "    plt.title(f'{name} Confusion Matrix')\n",
    "    plt.show()\n",
    "    \n",
    "    print(f\"{name} Classification Report:\")\n",
    "    print(classification_report(y_test, y_pred))"
   ]
  },
  {
   "cell_type": "code",
   "execution_count": 30,
   "metadata": {},
   "outputs": [
    {
     "name": "stdout",
     "output_type": "stream",
     "text": [
      "The best performing model is: Random Forest\n"
     ]
    }
   ],
   "source": [
    "## Model Selection\n",
    "# Decide based on the performance which model is the simplest and best-performing\n",
    "\n",
    "# First, create a dictionary to hold your models' cross-validation scores\n",
    "cv_scores = {\n",
    "    'KNN': cv_scores_knn.mean(),\n",
    "    'Random Forest': cv_scores_rf.mean(),\n",
    "    'Logistic Regression': cv_scores_lr.mean()\n",
    "}\n",
    "\n",
    "# Now you can find the best model based on CV scores\n",
    "best_model_name = max(cv_scores, key=cv_scores.get)\n",
    "print(f\"The best performing model is: {best_model_name}\")\n",
    "\n",
    "# Access the best model from the models dictionary\n",
    "best_model = models[best_model_name]\n",
    "\n",
    "# Here you can add the code to save, serialize, or deploy the best model."
   ]
  }
 ],
 "metadata": {
  "colab": {
   "provenance": [],
   "toc_visible": true
  },
  "kernelspec": {
   "display_name": "Python 3 (ipykernel)",
   "language": "python",
   "name": "python3"
  },
  "language_info": {
   "codemirror_mode": {
    "name": "ipython",
    "version": 3
   },
   "file_extension": ".py",
   "mimetype": "text/x-python",
   "name": "python",
   "nbconvert_exporter": "python",
   "pygments_lexer": "ipython3",
   "version": "3.10.9"
  }
 },
 "nbformat": 4,
 "nbformat_minor": 1
}
